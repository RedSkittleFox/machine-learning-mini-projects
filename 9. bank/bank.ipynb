{
 "cells": [
  {
   "cell_type": "markdown",
   "metadata": {},
   "source": [
    "# MUMA LAB 3\n",
    "Author: Marcin Poloczek\n",
    "\n",
    "# Problem Description\n",
    "Input variables:\n",
    "- bank client data:\n",
    "\t- age (numeric)\n",
    "\t- job : type of job (categorical: \"admin.\",\"unknown\",\"unemployed\",\"management\",\"housemaid\",\"entrepreneur\",\"student\",\n",
    "                                       \"blue-collar\",\"self-employed\",\"retired\",\"technician\",\"services\") \n",
    "\t- marital : marital status (categorical: \"married\",\"divorced\",\"single\"; note: \"divorced\" means divorced or widowed)\n",
    "\t- education (categorical: \"unknown\",\"secondary\",\"primary\",\"tertiary\")\n",
    "\t- default: has credit in default? (binary: \"yes\",\"no\")\n",
    "\t- balance: average yearly balance, in euros (numeric) \n",
    "\t- housing: has housing loan? (binary: \"yes\",\"no\")\n",
    "\t- loan: has personal loan? (binary: \"yes\",\"no\")\n",
    "- related with the last contact of the current campaign:\n",
    "\t- contact: contact communication type (categorical: \"unknown\",\"telephone\",\"cellular\") \n",
    "\t- day: last contact day of the month (numeric)\n",
    "\t- month: last contact month of year (categorical: \"jan\", \"feb\", \"mar\", ..., \"nov\", \"dec\")\n",
    "\t- duration: last contact duration, in seconds (numeric)\n",
    "- other attributes:\n",
    "\t- campaign: number of contacts performed during this campaign and for this client (numeric, includes last contact)\n",
    "\t- pdays: number of days that passed by after the client was last contacted from a previous campaign (numeric, -1 means client was not previously contacted)\n",
    "\t- previous: number of contacts performed before this campaign and for this client (numeric)\n",
    "\t- poutcome: outcome of the previous marketing campaign (categorical: \"unknown\",\"other\",\"failure\",\"success\")\n",
    "\n",
    "- Output variable (desired target):\n",
    "\t- y - has the client subscribed a term deposit? (binary: \"yes\",\"no\")\n"
   ]
  },
  {
   "cell_type": "markdown",
   "metadata": {},
   "source": [
    "# Get the data"
   ]
  },
  {
   "cell_type": "code",
   "execution_count": 349,
   "metadata": {
    "vscode": {
     "languageId": "r"
    }
   },
   "outputs": [
    {
     "data": {
      "text/html": [
       "<table class=\"dataframe\">\n",
       "<caption>A tibble: 6 × 17</caption>\n",
       "<thead>\n",
       "\t<tr><th scope=col>age</th><th scope=col>job</th><th scope=col>marital</th><th scope=col>education</th><th scope=col>default</th><th scope=col>balance</th><th scope=col>housing</th><th scope=col>loan</th><th scope=col>contact</th><th scope=col>day</th><th scope=col>month</th><th scope=col>duration</th><th scope=col>campaign</th><th scope=col>pdays</th><th scope=col>previous</th><th scope=col>poutcome</th><th scope=col>y</th></tr>\n",
       "\t<tr><th scope=col>&lt;int&gt;</th><th scope=col>&lt;fct&gt;</th><th scope=col>&lt;fct&gt;</th><th scope=col>&lt;fct&gt;</th><th scope=col>&lt;fct&gt;</th><th scope=col>&lt;dbl&gt;</th><th scope=col>&lt;fct&gt;</th><th scope=col>&lt;fct&gt;</th><th scope=col>&lt;fct&gt;</th><th scope=col>&lt;int&gt;</th><th scope=col>&lt;fct&gt;</th><th scope=col>&lt;int&gt;</th><th scope=col>&lt;int&gt;</th><th scope=col>&lt;int&gt;</th><th scope=col>&lt;int&gt;</th><th scope=col>&lt;fct&gt;</th><th scope=col>&lt;fct&gt;</th></tr>\n",
       "</thead>\n",
       "<tbody>\n",
       "\t<tr><td>58</td><td>management  </td><td>married</td><td>tertiary </td><td>no</td><td>2143</td><td>yes</td><td>no </td><td>unknown</td><td>5</td><td>may</td><td>261</td><td>1</td><td>-1</td><td>0</td><td>unknown</td><td>no</td></tr>\n",
       "\t<tr><td>44</td><td>technician  </td><td>single </td><td>secondary</td><td>no</td><td>  29</td><td>yes</td><td>no </td><td>unknown</td><td>5</td><td>may</td><td>151</td><td>1</td><td>-1</td><td>0</td><td>unknown</td><td>no</td></tr>\n",
       "\t<tr><td>33</td><td>entrepreneur</td><td>married</td><td>secondary</td><td>no</td><td>   2</td><td>yes</td><td>yes</td><td>unknown</td><td>5</td><td>may</td><td> 76</td><td>1</td><td>-1</td><td>0</td><td>unknown</td><td>no</td></tr>\n",
       "\t<tr><td>47</td><td>blue-collar </td><td>married</td><td>unknown  </td><td>no</td><td>1506</td><td>yes</td><td>no </td><td>unknown</td><td>5</td><td>may</td><td> 92</td><td>1</td><td>-1</td><td>0</td><td>unknown</td><td>no</td></tr>\n",
       "\t<tr><td>33</td><td>unknown     </td><td>single </td><td>unknown  </td><td>no</td><td>   1</td><td>no </td><td>no </td><td>unknown</td><td>5</td><td>may</td><td>198</td><td>1</td><td>-1</td><td>0</td><td>unknown</td><td>no</td></tr>\n",
       "\t<tr><td>35</td><td>management  </td><td>married</td><td>tertiary </td><td>no</td><td> 231</td><td>yes</td><td>no </td><td>unknown</td><td>5</td><td>may</td><td>139</td><td>1</td><td>-1</td><td>0</td><td>unknown</td><td>no</td></tr>\n",
       "</tbody>\n",
       "</table>\n"
      ],
      "text/latex": [
       "A tibble: 6 × 17\n",
       "\\begin{tabular}{lllllllllllllllll}\n",
       " age & job & marital & education & default & balance & housing & loan & contact & day & month & duration & campaign & pdays & previous & poutcome & y\\\\\n",
       " <int> & <fct> & <fct> & <fct> & <fct> & <dbl> & <fct> & <fct> & <fct> & <int> & <fct> & <int> & <int> & <int> & <int> & <fct> & <fct>\\\\\n",
       "\\hline\n",
       "\t 58 & management   & married & tertiary  & no & 2143 & yes & no  & unknown & 5 & may & 261 & 1 & -1 & 0 & unknown & no\\\\\n",
       "\t 44 & technician   & single  & secondary & no &   29 & yes & no  & unknown & 5 & may & 151 & 1 & -1 & 0 & unknown & no\\\\\n",
       "\t 33 & entrepreneur & married & secondary & no &    2 & yes & yes & unknown & 5 & may &  76 & 1 & -1 & 0 & unknown & no\\\\\n",
       "\t 47 & blue-collar  & married & unknown   & no & 1506 & yes & no  & unknown & 5 & may &  92 & 1 & -1 & 0 & unknown & no\\\\\n",
       "\t 33 & unknown      & single  & unknown   & no &    1 & no  & no  & unknown & 5 & may & 198 & 1 & -1 & 0 & unknown & no\\\\\n",
       "\t 35 & management   & married & tertiary  & no &  231 & yes & no  & unknown & 5 & may & 139 & 1 & -1 & 0 & unknown & no\\\\\n",
       "\\end{tabular}\n"
      ],
      "text/markdown": [
       "\n",
       "A tibble: 6 × 17\n",
       "\n",
       "| age &lt;int&gt; | job &lt;fct&gt; | marital &lt;fct&gt; | education &lt;fct&gt; | default &lt;fct&gt; | balance &lt;dbl&gt; | housing &lt;fct&gt; | loan &lt;fct&gt; | contact &lt;fct&gt; | day &lt;int&gt; | month &lt;fct&gt; | duration &lt;int&gt; | campaign &lt;int&gt; | pdays &lt;int&gt; | previous &lt;int&gt; | poutcome &lt;fct&gt; | y &lt;fct&gt; |\n",
       "|---|---|---|---|---|---|---|---|---|---|---|---|---|---|---|---|---|\n",
       "| 58 | management   | married | tertiary  | no | 2143 | yes | no  | unknown | 5 | may | 261 | 1 | -1 | 0 | unknown | no |\n",
       "| 44 | technician   | single  | secondary | no |   29 | yes | no  | unknown | 5 | may | 151 | 1 | -1 | 0 | unknown | no |\n",
       "| 33 | entrepreneur | married | secondary | no |    2 | yes | yes | unknown | 5 | may |  76 | 1 | -1 | 0 | unknown | no |\n",
       "| 47 | blue-collar  | married | unknown   | no | 1506 | yes | no  | unknown | 5 | may |  92 | 1 | -1 | 0 | unknown | no |\n",
       "| 33 | unknown      | single  | unknown   | no |    1 | no  | no  | unknown | 5 | may | 198 | 1 | -1 | 0 | unknown | no |\n",
       "| 35 | management   | married | tertiary  | no |  231 | yes | no  | unknown | 5 | may | 139 | 1 | -1 | 0 | unknown | no |\n",
       "\n"
      ],
      "text/plain": [
       "  age job          marital education default balance housing loan contact day\n",
       "1 58  management   married tertiary  no      2143    yes     no   unknown 5  \n",
       "2 44  technician   single  secondary no        29    yes     no   unknown 5  \n",
       "3 33  entrepreneur married secondary no         2    yes     yes  unknown 5  \n",
       "4 47  blue-collar  married unknown   no      1506    yes     no   unknown 5  \n",
       "5 33  unknown      single  unknown   no         1    no      no   unknown 5  \n",
       "6 35  management   married tertiary  no       231    yes     no   unknown 5  \n",
       "  month duration campaign pdays previous poutcome y \n",
       "1 may   261      1        -1    0        unknown  no\n",
       "2 may   151      1        -1    0        unknown  no\n",
       "3 may    76      1        -1    0        unknown  no\n",
       "4 may    92      1        -1    0        unknown  no\n",
       "5 may   198      1        -1    0        unknown  no\n",
       "6 may   139      1        -1    0        unknown  no"
      ]
     },
     "metadata": {},
     "output_type": "display_data"
    }
   ],
   "source": [
    "library(BCA);\n",
    "library(car);\n",
    "library(RcmdrMisc);\n",
    "library(sandwich);\n",
    "library(relimp);\n",
    "library(corrplot);\n",
    "library(tidyverse);\n",
    "library(tidyr);\n",
    "library(gridExtra);\n",
    "library(caTools);\n",
    "library(caret);\n",
    "\n",
    "options(repr.plot.width = 20, repr.plot.height = 10, repr.plot.res = 150)\n",
    "\n",
    "bank <- read_delim(\"data/bank-full.csv\", delim = \";\",\n",
    "    col_types = \"iffffdfffifiiiiff\")\n",
    "\n",
    "head(bank)"
   ]
  },
  {
   "cell_type": "code",
   "execution_count": 350,
   "metadata": {
    "vscode": {
     "languageId": "r"
    }
   },
   "outputs": [],
   "source": [
    "bank <- bank %>%\n",
    "    mutate(y = as.logical(y == \"yes\"))"
   ]
  },
  {
   "cell_type": "code",
   "execution_count": 351,
   "metadata": {
    "vscode": {
     "languageId": "r"
    }
   },
   "outputs": [
    {
     "data": {
      "text/plain": [
       "      age                 job           marital          education    \n",
       " Min.   :18.00   blue-collar:9732   married :27214   tertiary :13301  \n",
       " 1st Qu.:33.00   management :9458   single  :12790   secondary:23202  \n",
       " Median :39.00   technician :7597   divorced: 5207   unknown  : 1857  \n",
       " Mean   :40.94   admin.     :5171                    primary  : 6851  \n",
       " 3rd Qu.:48.00   services   :4154                                     \n",
       " Max.   :95.00   retired    :2264                                     \n",
       "                 (Other)    :6835                                     \n",
       " default        balance       housing      loan            contact     \n",
       " no :44396   Min.   : -8019   yes:25130   no :37967   unknown  :13020  \n",
       " yes:  815   1st Qu.:    72   no :20081   yes: 7244   cellular :29285  \n",
       "             Median :   448                           telephone: 2906  \n",
       "             Mean   :  1362                                            \n",
       "             3rd Qu.:  1428                                            \n",
       "             Max.   :102127                                            \n",
       "                                                                       \n",
       "      day            month          duration         campaign     \n",
       " Min.   : 1.00   may    :13766   Min.   :   0.0   Min.   : 1.000  \n",
       " 1st Qu.: 8.00   jul    : 6895   1st Qu.: 103.0   1st Qu.: 1.000  \n",
       " Median :16.00   aug    : 6247   Median : 180.0   Median : 2.000  \n",
       " Mean   :15.81   jun    : 5341   Mean   : 258.2   Mean   : 2.764  \n",
       " 3rd Qu.:21.00   nov    : 3970   3rd Qu.: 319.0   3rd Qu.: 3.000  \n",
       " Max.   :31.00   apr    : 2932   Max.   :4918.0   Max.   :63.000  \n",
       "                 (Other): 6060                                    \n",
       "     pdays          previous           poutcome         y          \n",
       " Min.   : -1.0   Min.   :  0.0000   unknown:36959   Mode :logical  \n",
       " 1st Qu.: -1.0   1st Qu.:  0.0000   failure: 4901   FALSE:39922    \n",
       " Median : -1.0   Median :  0.0000   other  : 1840   TRUE :5289     \n",
       " Mean   : 40.2   Mean   :  0.5803   success: 1511                  \n",
       " 3rd Qu.: -1.0   3rd Qu.:  0.0000                                  \n",
       " Max.   :871.0   Max.   :275.0000                                  \n",
       "                                                                   "
      ]
     },
     "metadata": {},
     "output_type": "display_data"
    }
   ],
   "source": [
    "summary(bank)"
   ]
  },
  {
   "cell_type": "markdown",
   "metadata": {},
   "source": [
    "# Inspect the data"
   ]
  },
  {
   "cell_type": "markdown",
   "metadata": {},
   "source": [
    "# Histogram of Age by Y"
   ]
  },
  {
   "cell_type": "code",
   "execution_count": 352,
   "metadata": {
    "vscode": {
     "languageId": "r"
    }
   },
   "outputs": [
    {
     "data": {
      "image/png": "[encoded data removed]",
      "text/plain": [
       "plot without title"
      ]
     },
     "metadata": {
      "image/png": {
       "height": 750,
       "width": 1500
      }
     },
     "output_type": "display_data"
    }
   ],
   "source": [
    "p0 <- bank %>% ggplot(aes(x = age)) +\n",
    "    geom_histogram(binwidth = 1, fill = \"blue\", color = \"black\") + \n",
    "    labs(title = \"Histogram of Age\",\n",
    "        x = \"Age\",\n",
    "        y = \"Frequency\") +\n",
    "    theme_minimal()\n",
    "\n",
    "average_count <- aggregate(y ~ age, data = bank, FUN = mean)\n",
    "\n",
    "p1 <- average_count %>% \n",
    "    ggplot(aes(x = factor(age), y = y)) +\n",
    "    geom_bar(stat = \"identity\", fill = \"blue\", color = \"black\") +  # Use blue bars with black borders\n",
    "    labs(title = \"Bar Plot of Average Count by Age\",\n",
    "        x = \"Age\",\n",
    "        y = \"Average Count\") +\n",
    "    theme_minimal() +\n",
    "    theme(axis.text.x = element_text(angle = 45, hjust = 1)) \n",
    "\n",
    "\n",
    "grid.arrange(p0, p1, ncol=1, nrow = 2)"
   ]
  },
  {
   "cell_type": "markdown",
   "metadata": {},
   "source": [
    "The upper diagram shows the frequency of records by age. The lower diagram shows the probability of a given age subscribing to the deposit. There is a trend on the lower diagram showing the elderly (60+ years) being more likely to subscribe to the deposit. This however might be explained by the under-representation of the data in those age categories. Most of the records are located between 20 and 60 years of age."
   ]
  },
  {
   "cell_type": "code",
   "execution_count": 353,
   "metadata": {
    "vscode": {
     "languageId": "r"
    }
   },
   "outputs": [
    {
     "data": {
      "image/png": "[encoded data removed]",
      "text/plain": [
       "plot without title"
      ]
     },
     "metadata": {
      "image/png": {
       "height": 750,
       "width": 1500
      }
     },
     "output_type": "display_data"
    }
   ],
   "source": [
    "p0 <- bank %>%\n",
    "    ggplot(aes(x = job)) +\n",
    "    geom_bar(fill = \"blue\") +\n",
    "    labs(title = \"Bar Plot of Jobs\",\n",
    "        x = \"Job\",\n",
    "        y = \"Count\") +\n",
    "    theme_minimal() +\n",
    "    theme(axis.text.x = element_text(angle = 90, vjust = 0.5, hjust=1))\n",
    "\n",
    "p1 <- bank %>%\n",
    "    ggplot(aes(x = marital)) +\n",
    "    geom_bar(fill = \"red\") +\n",
    "    labs(title = \"Bar Plot of Marital\",\n",
    "        x = \"Marital\",\n",
    "        y = \"Count\") +\n",
    "    theme_minimal()\n",
    "\n",
    "p2 <- bank %>%\n",
    "    ggplot(aes(x = education)) +\n",
    "    geom_bar(fill = \"green\") +\n",
    "    labs(title = \"Bar Plot of Education\",\n",
    "        x = \"Education\",\n",
    "        y = \"Count\") +\n",
    "    theme_minimal()\n",
    "\n",
    "\n",
    "grid.arrange(p0, p1, p2, ncol=2, nrow = 2)"
   ]
  },
  {
   "cell_type": "markdown",
   "metadata": {},
   "source": [
    "Professions that are the most likely to subscribe to the term deposit are management, technicians, and blue-collar workers. \n",
    "Married people and those who have a secondary education are also more likely to make the deposit."
   ]
  },
  {
   "cell_type": "markdown",
   "metadata": {},
   "source": [
    "# Model"
   ]
  },
  {
   "cell_type": "markdown",
   "metadata": {},
   "source": [
    "## Logarithmized values\n",
    "Add 1 to values that contain zero."
   ]
  },
  {
   "cell_type": "code",
   "execution_count": 354,
   "metadata": {
    "vscode": {
     "languageId": "r"
    }
   },
   "outputs": [
    {
     "data": {
      "text/html": [
       "<table class=\"dataframe\">\n",
       "<caption>A tibble: 6 × 23</caption>\n",
       "<thead>\n",
       "\t<tr><th scope=col>age</th><th scope=col>job</th><th scope=col>marital</th><th scope=col>education</th><th scope=col>default</th><th scope=col>balance</th><th scope=col>housing</th><th scope=col>loan</th><th scope=col>contact</th><th scope=col>day</th><th scope=col>⋯</th><th scope=col>pdays</th><th scope=col>previous</th><th scope=col>poutcome</th><th scope=col>y</th><th scope=col>age_log</th><th scope=col>day_log</th><th scope=col>duration_log</th><th scope=col>campaign_log</th><th scope=col>pdays_log</th><th scope=col>previous_log</th></tr>\n",
       "\t<tr><th scope=col>&lt;int&gt;</th><th scope=col>&lt;fct&gt;</th><th scope=col>&lt;fct&gt;</th><th scope=col>&lt;fct&gt;</th><th scope=col>&lt;fct&gt;</th><th scope=col>&lt;dbl&gt;</th><th scope=col>&lt;fct&gt;</th><th scope=col>&lt;fct&gt;</th><th scope=col>&lt;fct&gt;</th><th scope=col>&lt;int&gt;</th><th scope=col>⋯</th><th scope=col>&lt;int&gt;</th><th scope=col>&lt;int&gt;</th><th scope=col>&lt;fct&gt;</th><th scope=col>&lt;lgl&gt;</th><th scope=col>&lt;dbl&gt;</th><th scope=col>&lt;dbl&gt;</th><th scope=col>&lt;dbl&gt;</th><th scope=col>&lt;dbl&gt;</th><th scope=col>&lt;dbl&gt;</th><th scope=col>&lt;dbl&gt;</th></tr>\n",
       "</thead>\n",
       "<tbody>\n",
       "\t<tr><td>58</td><td>management  </td><td>married</td><td>tertiary </td><td>no</td><td>2143</td><td>yes</td><td>no </td><td>unknown</td><td>5</td><td>⋯</td><td>-1</td><td>0</td><td>unknown</td><td>FALSE</td><td>4.060443</td><td>1.609438</td><td>5.568345</td><td>0.6931472</td><td>0</td><td>0</td></tr>\n",
       "\t<tr><td>44</td><td>technician  </td><td>single </td><td>secondary</td><td>no</td><td>  29</td><td>yes</td><td>no </td><td>unknown</td><td>5</td><td>⋯</td><td>-1</td><td>0</td><td>unknown</td><td>FALSE</td><td>3.784190</td><td>1.609438</td><td>5.023881</td><td>0.6931472</td><td>0</td><td>0</td></tr>\n",
       "\t<tr><td>33</td><td>entrepreneur</td><td>married</td><td>secondary</td><td>no</td><td>   2</td><td>yes</td><td>yes</td><td>unknown</td><td>5</td><td>⋯</td><td>-1</td><td>0</td><td>unknown</td><td>FALSE</td><td>3.496508</td><td>1.609438</td><td>4.343805</td><td>0.6931472</td><td>0</td><td>0</td></tr>\n",
       "\t<tr><td>47</td><td>blue-collar </td><td>married</td><td>unknown  </td><td>no</td><td>1506</td><td>yes</td><td>no </td><td>unknown</td><td>5</td><td>⋯</td><td>-1</td><td>0</td><td>unknown</td><td>FALSE</td><td>3.850148</td><td>1.609438</td><td>4.532599</td><td>0.6931472</td><td>0</td><td>0</td></tr>\n",
       "\t<tr><td>33</td><td>unknown     </td><td>single </td><td>unknown  </td><td>no</td><td>   1</td><td>no </td><td>no </td><td>unknown</td><td>5</td><td>⋯</td><td>-1</td><td>0</td><td>unknown</td><td>FALSE</td><td>3.496508</td><td>1.609438</td><td>5.293305</td><td>0.6931472</td><td>0</td><td>0</td></tr>\n",
       "\t<tr><td>35</td><td>management  </td><td>married</td><td>tertiary </td><td>no</td><td> 231</td><td>yes</td><td>no </td><td>unknown</td><td>5</td><td>⋯</td><td>-1</td><td>0</td><td>unknown</td><td>FALSE</td><td>3.555348</td><td>1.609438</td><td>4.941642</td><td>0.6931472</td><td>0</td><td>0</td></tr>\n",
       "</tbody>\n",
       "</table>\n"
      ],
      "text/latex": [
       "A tibble: 6 × 23\n",
       "\\begin{tabular}{lllllllllllllllllllll}\n",
       " age & job & marital & education & default & balance & housing & loan & contact & day & ⋯ & pdays & previous & poutcome & y & age\\_log & day\\_log & duration\\_log & campaign\\_log & pdays\\_log & previous\\_log\\\\\n",
       " <int> & <fct> & <fct> & <fct> & <fct> & <dbl> & <fct> & <fct> & <fct> & <int> & ⋯ & <int> & <int> & <fct> & <lgl> & <dbl> & <dbl> & <dbl> & <dbl> & <dbl> & <dbl>\\\\\n",
       "\\hline\n",
       "\t 58 & management   & married & tertiary  & no & 2143 & yes & no  & unknown & 5 & ⋯ & -1 & 0 & unknown & FALSE & 4.060443 & 1.609438 & 5.568345 & 0.6931472 & 0 & 0\\\\\n",
       "\t 44 & technician   & single  & secondary & no &   29 & yes & no  & unknown & 5 & ⋯ & -1 & 0 & unknown & FALSE & 3.784190 & 1.609438 & 5.023881 & 0.6931472 & 0 & 0\\\\\n",
       "\t 33 & entrepreneur & married & secondary & no &    2 & yes & yes & unknown & 5 & ⋯ & -1 & 0 & unknown & FALSE & 3.496508 & 1.609438 & 4.343805 & 0.6931472 & 0 & 0\\\\\n",
       "\t 47 & blue-collar  & married & unknown   & no & 1506 & yes & no  & unknown & 5 & ⋯ & -1 & 0 & unknown & FALSE & 3.850148 & 1.609438 & 4.532599 & 0.6931472 & 0 & 0\\\\\n",
       "\t 33 & unknown      & single  & unknown   & no &    1 & no  & no  & unknown & 5 & ⋯ & -1 & 0 & unknown & FALSE & 3.496508 & 1.609438 & 5.293305 & 0.6931472 & 0 & 0\\\\\n",
       "\t 35 & management   & married & tertiary  & no &  231 & yes & no  & unknown & 5 & ⋯ & -1 & 0 & unknown & FALSE & 3.555348 & 1.609438 & 4.941642 & 0.6931472 & 0 & 0\\\\\n",
       "\\end{tabular}\n"
      ],
      "text/markdown": [
       "\n",
       "A tibble: 6 × 23\n",
       "\n",
       "| age &lt;int&gt; | job &lt;fct&gt; | marital &lt;fct&gt; | education &lt;fct&gt; | default &lt;fct&gt; | balance &lt;dbl&gt; | housing &lt;fct&gt; | loan &lt;fct&gt; | contact &lt;fct&gt; | day &lt;int&gt; | ⋯ ⋯ | pdays &lt;int&gt; | previous &lt;int&gt; | poutcome &lt;fct&gt; | y &lt;lgl&gt; | age_log &lt;dbl&gt; | day_log &lt;dbl&gt; | duration_log &lt;dbl&gt; | campaign_log &lt;dbl&gt; | pdays_log &lt;dbl&gt; | previous_log &lt;dbl&gt; |\n",
       "|---|---|---|---|---|---|---|---|---|---|---|---|---|---|---|---|---|---|---|---|---|\n",
       "| 58 | management   | married | tertiary  | no | 2143 | yes | no  | unknown | 5 | ⋯ | -1 | 0 | unknown | FALSE | 4.060443 | 1.609438 | 5.568345 | 0.6931472 | 0 | 0 |\n",
       "| 44 | technician   | single  | secondary | no |   29 | yes | no  | unknown | 5 | ⋯ | -1 | 0 | unknown | FALSE | 3.784190 | 1.609438 | 5.023881 | 0.6931472 | 0 | 0 |\n",
       "| 33 | entrepreneur | married | secondary | no |    2 | yes | yes | unknown | 5 | ⋯ | -1 | 0 | unknown | FALSE | 3.496508 | 1.609438 | 4.343805 | 0.6931472 | 0 | 0 |\n",
       "| 47 | blue-collar  | married | unknown   | no | 1506 | yes | no  | unknown | 5 | ⋯ | -1 | 0 | unknown | FALSE | 3.850148 | 1.609438 | 4.532599 | 0.6931472 | 0 | 0 |\n",
       "| 33 | unknown      | single  | unknown   | no |    1 | no  | no  | unknown | 5 | ⋯ | -1 | 0 | unknown | FALSE | 3.496508 | 1.609438 | 5.293305 | 0.6931472 | 0 | 0 |\n",
       "| 35 | management   | married | tertiary  | no |  231 | yes | no  | unknown | 5 | ⋯ | -1 | 0 | unknown | FALSE | 3.555348 | 1.609438 | 4.941642 | 0.6931472 | 0 | 0 |\n",
       "\n"
      ],
      "text/plain": [
       "  age job          marital education default balance housing loan contact day ⋯\n",
       "1 58  management   married tertiary  no      2143    yes     no   unknown 5   ⋯\n",
       "2 44  technician   single  secondary no        29    yes     no   unknown 5   ⋯\n",
       "3 33  entrepreneur married secondary no         2    yes     yes  unknown 5   ⋯\n",
       "4 47  blue-collar  married unknown   no      1506    yes     no   unknown 5   ⋯\n",
       "5 33  unknown      single  unknown   no         1    no      no   unknown 5   ⋯\n",
       "6 35  management   married tertiary  no       231    yes     no   unknown 5   ⋯\n",
       "  pdays previous poutcome y     age_log  day_log  duration_log campaign_log\n",
       "1 -1    0        unknown  FALSE 4.060443 1.609438 5.568345     0.6931472   \n",
       "2 -1    0        unknown  FALSE 3.784190 1.609438 5.023881     0.6931472   \n",
       "3 -1    0        unknown  FALSE 3.496508 1.609438 4.343805     0.6931472   \n",
       "4 -1    0        unknown  FALSE 3.850148 1.609438 4.532599     0.6931472   \n",
       "5 -1    0        unknown  FALSE 3.496508 1.609438 5.293305     0.6931472   \n",
       "6 -1    0        unknown  FALSE 3.555348 1.609438 4.941642     0.6931472   \n",
       "  pdays_log previous_log\n",
       "1 0         0           \n",
       "2 0         0           \n",
       "3 0         0           \n",
       "4 0         0           \n",
       "5 0         0           \n",
       "6 0         0           "
      ]
     },
     "metadata": {},
     "output_type": "display_data"
    }
   ],
   "source": [
    "bank <- bank %>%\n",
    "    mutate(\n",
    "        age_log = log(age),\n",
    "        day_log = log(day),\n",
    "        duration_log = log(duration + 1),\n",
    "        campaign_log = log(campaign + 1),\n",
    "        pdays_log = log(pdays + 2), # min value is -1\n",
    "        previous_log = log(previous + 1)\n",
    "    )\n",
    "\n",
    "head(bank)"
   ]
  },
  {
   "cell_type": "markdown",
   "metadata": {},
   "source": [
    "## Creating train and test sets"
   ]
  },
  {
   "cell_type": "code",
   "execution_count": 355,
   "metadata": {
    "vscode": {
     "languageId": "r"
    }
   },
   "outputs": [
    {
     "data": {
      "text/html": [
       "31647"
      ],
      "text/latex": [
       "31647"
      ],
      "text/markdown": [
       "31647"
      ],
      "text/plain": [
       "[1] 31647"
      ]
     },
     "metadata": {},
     "output_type": "display_data"
    },
    {
     "data": {
      "text/html": [
       "13564"
      ],
      "text/latex": [
       "13564"
      ],
      "text/markdown": [
       "13564"
      ],
      "text/plain": [
       "[1] 13564"
      ]
     },
     "metadata": {},
     "output_type": "display_data"
    }
   ],
   "source": [
    "set.seed(17)\n",
    "train_test_set <- sample.split(bank$y, SplitRatio = 0.7)\n",
    "bank_train <- subset(bank, train_test_set == TRUE)\n",
    "bank_test <- subset(bank, train_test_set == FALSE)\n",
    "\n",
    "nrow(bank_train)\n",
    "nrow(bank_test)"
   ]
  },
  {
   "cell_type": "markdown",
   "metadata": {},
   "source": [
    "## Model creation"
   ]
  },
  {
   "cell_type": "code",
   "execution_count": 356,
   "metadata": {
    "vscode": {
     "languageId": "r"
    }
   },
   "outputs": [
    {
     "data": {
      "text/plain": [
       "\n",
       "Call:\n",
       "glm(formula = y ~ age + job + marital + education + default + \n",
       "    balance + housing + loan + contact + day + month + duration + \n",
       "    campaign + pdays + previous + poutcome, family = binomial(logit), \n",
       "    data = bank_train)\n",
       "\n",
       "Coefficients:\n",
       "                     Estimate Std. Error z value Pr(>|z|)    \n",
       "(Intercept)        -5.320e+00  1.592e-01 -33.426  < 2e-16 ***\n",
       "age                -3.734e-04  2.640e-03  -0.141 0.887495    \n",
       "jobtechnician      -6.301e-02  7.671e-02  -0.821 0.411393    \n",
       "jobentrepreneur    -1.195e-01  1.388e-01  -0.861 0.389343    \n",
       "jobblue-collar     -1.677e-01  8.885e-02  -1.888 0.059068 .  \n",
       "jobunknown         -2.554e-01  2.737e-01  -0.933 0.350778    \n",
       "jobretired          4.590e-01  1.104e-01   4.159 3.19e-05 ***\n",
       "jobadmin.           1.322e-01  8.826e-02   1.498 0.134238    \n",
       "jobservices        -8.297e-02  1.025e-01  -0.810 0.418211    \n",
       "jobself-employed   -2.077e-01  1.266e-01  -1.640 0.101020    \n",
       "jobunemployed      -1.096e-01  1.297e-01  -0.845 0.397906    \n",
       "jobhousemaid       -3.503e-01  1.652e-01  -2.120 0.033989 *  \n",
       "jobstudent          5.047e-01  1.307e-01   3.862 0.000112 ***\n",
       "maritalsingle       2.419e-01  5.512e-02   4.389 1.14e-05 ***\n",
       "maritaldivorced     2.117e-01  6.925e-02   3.057 0.002232 ** \n",
       "educationsecondary -1.487e-01  6.193e-02  -2.402 0.016324 *  \n",
       "educationunknown   -2.811e-03  1.126e-01  -0.025 0.980079    \n",
       "educationprimary   -3.911e-01  9.031e-02  -4.331 1.49e-05 ***\n",
       "defaultyes          4.276e-02  1.924e-01   0.222 0.824145    \n",
       "balance             1.511e-05  6.120e-06   2.468 0.013571 *  \n",
       "housingno           6.853e-01  5.241e-02  13.076  < 2e-16 ***\n",
       "loanyes            -4.321e-01  7.155e-02  -6.039 1.55e-09 ***\n",
       "contactcellular     1.682e+00  8.878e-02  18.950  < 2e-16 ***\n",
       "contacttelephone    1.510e+00  1.214e-01  12.439  < 2e-16 ***\n",
       "day                 9.504e-03  3.000e-03   3.168 0.001536 ** \n",
       "monthjun            8.771e-01  9.378e-02   9.352  < 2e-16 ***\n",
       "monthjul           -3.972e-01  8.629e-02  -4.603 4.16e-06 ***\n",
       "monthaug           -2.989e-01  8.810e-02  -3.393 0.000691 ***\n",
       "monthoct            1.208e+00  1.257e-01   9.610  < 2e-16 ***\n",
       "monthnov           -3.801e-01  9.401e-02  -4.043 5.27e-05 ***\n",
       "monthdec            1.011e+00  2.095e-01   4.829 1.37e-06 ***\n",
       "monthjan           -9.465e-01  1.462e-01  -6.473 9.63e-11 ***\n",
       "monthfeb            2.907e-01  9.713e-02   2.993 0.002764 ** \n",
       "monthmar            2.128e+00  1.409e-01  15.098  < 2e-16 ***\n",
       "monthapr            3.855e-01  8.638e-02   4.462 8.11e-06 ***\n",
       "monthsep            1.258e+00  1.372e-01   9.168  < 2e-16 ***\n",
       "duration            4.172e-03  7.668e-05  54.400  < 2e-16 ***\n",
       "campaign           -9.235e-02  1.218e-02  -7.581 3.42e-14 ***\n",
       "pdays               1.221e-04  3.648e-04   0.335 0.737911    \n",
       "previous            7.402e-03  6.491e-03   1.140 0.254138    \n",
       "poutcomefailure     1.036e-01  1.107e-01   0.936 0.349347    \n",
       "poutcomeother       2.303e-01  1.286e-01   1.790 0.073462 .  \n",
       "poutcomesuccess     2.257e+00  1.013e-01  22.293  < 2e-16 ***\n",
       "---\n",
       "Signif. codes:  0 '***' 0.001 '**' 0.01 '*' 0.05 '.' 0.1 ' ' 1\n",
       "\n",
       "(Dispersion parameter for binomial family taken to be 1)\n",
       "\n",
       "    Null deviance: 22840  on 31646  degrees of freedom\n",
       "Residual deviance: 15146  on 31604  degrees of freedom\n",
       "AIC: 15232\n",
       "\n",
       "Number of Fisher Scoring iterations: 6\n"
      ]
     },
     "metadata": {},
     "output_type": "display_data"
    }
   ],
   "source": [
    "mdl <- glm(y ~ age + job + marital + education + default + balance + housing + loan + contact + day + month + duration + campaign + pdays + previous + poutcome, \n",
    "    family = binomial(logit), data = bank_train)\n",
    "summary_mdl <- summary(mdl)\n",
    "summary_mdl"
   ]
  },
  {
   "cell_type": "code",
   "execution_count": 357,
   "metadata": {
    "vscode": {
     "languageId": "r"
    }
   },
   "outputs": [
    {
     "data": {
      "text/html": [
       "0.336889106319133"
      ],
      "text/latex": [
       "0.336889106319133"
      ],
      "text/markdown": [
       "0.336889106319133"
      ],
      "text/plain": [
       "[1] 0.3368891"
      ]
     },
     "metadata": {},
     "output_type": "display_data"
    }
   ],
   "source": [
    "ComputeMcFadden <- function(model) {\n",
    "    return(1 - (model$deviance / model$null.deviance)) # McFadden R2\n",
    "}\n",
    "\n",
    "mdl %>% ComputeMcFadden()"
   ]
  },
  {
   "cell_type": "code",
   "execution_count": 358,
   "metadata": {
    "vscode": {
     "languageId": "r"
    }
   },
   "outputs": [
    {
     "data": {
      "text/html": [
       "<table class=\"dataframe\">\n",
       "<caption>A data.frame: 16 × 3</caption>\n",
       "<thead>\n",
       "\t<tr><th></th><th scope=col>LR Chisq</th><th scope=col>Df</th><th scope=col>Pr(&gt;Chisq)</th></tr>\n",
       "\t<tr><th></th><th scope=col>&lt;dbl&gt;</th><th scope=col>&lt;dbl&gt;</th><th scope=col>&lt;dbl&gt;</th></tr>\n",
       "</thead>\n",
       "<tbody>\n",
       "\t<tr><th scope=row>age</th><td>2.001825e-02</td><td> 1</td><td> 8.874861e-01</td></tr>\n",
       "\t<tr><th scope=row>default</th><td>4.896218e-02</td><td> 1</td><td> 8.248791e-01</td></tr>\n",
       "\t<tr><th scope=row>pdays</th><td>1.118031e-01</td><td> 1</td><td> 7.381006e-01</td></tr>\n",
       "\t<tr><th scope=row>previous</th><td>1.223543e+00</td><td> 1</td><td> 2.686664e-01</td></tr>\n",
       "\t<tr><th scope=row>balance</th><td>5.881658e+00</td><td> 1</td><td> 1.529941e-02</td></tr>\n",
       "\t<tr><th scope=row>day</th><td>1.003472e+01</td><td> 1</td><td> 1.536170e-03</td></tr>\n",
       "\t<tr><th scope=row>education</th><td>2.088320e+01</td><td> 3</td><td> 1.113226e-04</td></tr>\n",
       "\t<tr><th scope=row>marital</th><td>2.421842e+01</td><td> 2</td><td> 5.508557e-06</td></tr>\n",
       "\t<tr><th scope=row>loan</th><td>3.879842e+01</td><td> 1</td><td> 4.699077e-10</td></tr>\n",
       "\t<tr><th scope=row>job</th><td>7.439389e+01</td><td>11</td><td> 1.771280e-11</td></tr>\n",
       "\t<tr><th scope=row>campaign</th><td>6.762309e+01</td><td> 1</td><td> 1.979362e-16</td></tr>\n",
       "\t<tr><th scope=row>housing</th><td>1.743605e+02</td><td> 1</td><td> 8.257662e-40</td></tr>\n",
       "\t<tr><th scope=row>contact</th><td>3.977134e+02</td><td> 2</td><td> 4.341412e-87</td></tr>\n",
       "\t<tr><th scope=row>month</th><td>7.275058e+02</td><td>11</td><td>6.827914e-149</td></tr>\n",
       "\t<tr><th scope=row>poutcome</th><td>7.424443e+02</td><td> 3</td><td>1.312591e-160</td></tr>\n",
       "\t<tr><th scope=row>duration</th><td>3.900197e+03</td><td> 1</td><td> 0.000000e+00</td></tr>\n",
       "</tbody>\n",
       "</table>\n"
      ],
      "text/latex": [
       "A data.frame: 16 × 3\n",
       "\\begin{tabular}{r|lll}\n",
       "  & LR Chisq & Df & Pr(>Chisq)\\\\\n",
       "  & <dbl> & <dbl> & <dbl>\\\\\n",
       "\\hline\n",
       "\tage & 2.001825e-02 &  1 &  8.874861e-01\\\\\n",
       "\tdefault & 4.896218e-02 &  1 &  8.248791e-01\\\\\n",
       "\tpdays & 1.118031e-01 &  1 &  7.381006e-01\\\\\n",
       "\tprevious & 1.223543e+00 &  1 &  2.686664e-01\\\\\n",
       "\tbalance & 5.881658e+00 &  1 &  1.529941e-02\\\\\n",
       "\tday & 1.003472e+01 &  1 &  1.536170e-03\\\\\n",
       "\teducation & 2.088320e+01 &  3 &  1.113226e-04\\\\\n",
       "\tmarital & 2.421842e+01 &  2 &  5.508557e-06\\\\\n",
       "\tloan & 3.879842e+01 &  1 &  4.699077e-10\\\\\n",
       "\tjob & 7.439389e+01 & 11 &  1.771280e-11\\\\\n",
       "\tcampaign & 6.762309e+01 &  1 &  1.979362e-16\\\\\n",
       "\thousing & 1.743605e+02 &  1 &  8.257662e-40\\\\\n",
       "\tcontact & 3.977134e+02 &  2 &  4.341412e-87\\\\\n",
       "\tmonth & 7.275058e+02 & 11 & 6.827914e-149\\\\\n",
       "\tpoutcome & 7.424443e+02 &  3 & 1.312591e-160\\\\\n",
       "\tduration & 3.900197e+03 &  1 &  0.000000e+00\\\\\n",
       "\\end{tabular}\n"
      ],
      "text/markdown": [
       "\n",
       "A data.frame: 16 × 3\n",
       "\n",
       "| <!--/--> | LR Chisq &lt;dbl&gt; | Df &lt;dbl&gt; | Pr(&gt;Chisq) &lt;dbl&gt; |\n",
       "|---|---|---|---|\n",
       "| age | 2.001825e-02 |  1 |  8.874861e-01 |\n",
       "| default | 4.896218e-02 |  1 |  8.248791e-01 |\n",
       "| pdays | 1.118031e-01 |  1 |  7.381006e-01 |\n",
       "| previous | 1.223543e+00 |  1 |  2.686664e-01 |\n",
       "| balance | 5.881658e+00 |  1 |  1.529941e-02 |\n",
       "| day | 1.003472e+01 |  1 |  1.536170e-03 |\n",
       "| education | 2.088320e+01 |  3 |  1.113226e-04 |\n",
       "| marital | 2.421842e+01 |  2 |  5.508557e-06 |\n",
       "| loan | 3.879842e+01 |  1 |  4.699077e-10 |\n",
       "| job | 7.439389e+01 | 11 |  1.771280e-11 |\n",
       "| campaign | 6.762309e+01 |  1 |  1.979362e-16 |\n",
       "| housing | 1.743605e+02 |  1 |  8.257662e-40 |\n",
       "| contact | 3.977134e+02 |  2 |  4.341412e-87 |\n",
       "| month | 7.275058e+02 | 11 | 6.827914e-149 |\n",
       "| poutcome | 7.424443e+02 |  3 | 1.312591e-160 |\n",
       "| duration | 3.900197e+03 |  1 |  0.000000e+00 |\n",
       "\n"
      ],
      "text/plain": [
       "          LR Chisq     Df Pr(>Chisq)   \n",
       "age       2.001825e-02  1  8.874861e-01\n",
       "default   4.896218e-02  1  8.248791e-01\n",
       "pdays     1.118031e-01  1  7.381006e-01\n",
       "previous  1.223543e+00  1  2.686664e-01\n",
       "balance   5.881658e+00  1  1.529941e-02\n",
       "day       1.003472e+01  1  1.536170e-03\n",
       "education 2.088320e+01  3  1.113226e-04\n",
       "marital   2.421842e+01  2  5.508557e-06\n",
       "loan      3.879842e+01  1  4.699077e-10\n",
       "job       7.439389e+01 11  1.771280e-11\n",
       "campaign  6.762309e+01  1  1.979362e-16\n",
       "housing   1.743605e+02  1  8.257662e-40\n",
       "contact   3.977134e+02  2  4.341412e-87\n",
       "month     7.275058e+02 11 6.827914e-149\n",
       "poutcome  7.424443e+02  3 1.312591e-160\n",
       "duration  3.900197e+03  1  0.000000e+00"
      ]
     },
     "metadata": {},
     "output_type": "display_data"
    }
   ],
   "source": [
    "anova_mdl <- as.data.frame(Anova(mdl)) %>% arrange(desc(`Pr(>Chisq)`))\n",
    "anova_mdl"
   ]
  },
  {
   "cell_type": "code",
   "execution_count": 359,
   "metadata": {
    "vscode": {
     "languageId": "r"
    }
   },
   "outputs": [
    {
     "data": {
      "text/html": [
       "<table class=\"dataframe\">\n",
       "<caption>A data.frame: 4 × 3</caption>\n",
       "<thead>\n",
       "\t<tr><th></th><th scope=col>LR Chisq</th><th scope=col>Df</th><th scope=col>Pr(&gt;Chisq)</th></tr>\n",
       "\t<tr><th></th><th scope=col>&lt;dbl&gt;</th><th scope=col>&lt;dbl&gt;</th><th scope=col>&lt;dbl&gt;</th></tr>\n",
       "</thead>\n",
       "<tbody>\n",
       "\t<tr><th scope=row>age</th><td>0.02001825</td><td>1</td><td>0.8874861</td></tr>\n",
       "\t<tr><th scope=row>default</th><td>0.04896218</td><td>1</td><td>0.8248791</td></tr>\n",
       "\t<tr><th scope=row>pdays</th><td>0.11180306</td><td>1</td><td>0.7381006</td></tr>\n",
       "\t<tr><th scope=row>previous</th><td>1.22354310</td><td>1</td><td>0.2686664</td></tr>\n",
       "</tbody>\n",
       "</table>\n"
      ],
      "text/latex": [
       "A data.frame: 4 × 3\n",
       "\\begin{tabular}{r|lll}\n",
       "  & LR Chisq & Df & Pr(>Chisq)\\\\\n",
       "  & <dbl> & <dbl> & <dbl>\\\\\n",
       "\\hline\n",
       "\tage & 0.02001825 & 1 & 0.8874861\\\\\n",
       "\tdefault & 0.04896218 & 1 & 0.8248791\\\\\n",
       "\tpdays & 0.11180306 & 1 & 0.7381006\\\\\n",
       "\tprevious & 1.22354310 & 1 & 0.2686664\\\\\n",
       "\\end{tabular}\n"
      ],
      "text/markdown": [
       "\n",
       "A data.frame: 4 × 3\n",
       "\n",
       "| <!--/--> | LR Chisq &lt;dbl&gt; | Df &lt;dbl&gt; | Pr(&gt;Chisq) &lt;dbl&gt; |\n",
       "|---|---|---|---|\n",
       "| age | 0.02001825 | 1 | 0.8874861 |\n",
       "| default | 0.04896218 | 1 | 0.8248791 |\n",
       "| pdays | 0.11180306 | 1 | 0.7381006 |\n",
       "| previous | 1.22354310 | 1 | 0.2686664 |\n",
       "\n"
      ],
      "text/plain": [
       "         LR Chisq   Df Pr(>Chisq)\n",
       "age      0.02001825 1  0.8874861 \n",
       "default  0.04896218 1  0.8248791 \n",
       "pdays    0.11180306 1  0.7381006 \n",
       "previous 1.22354310 1  0.2686664 "
      ]
     },
     "metadata": {},
     "output_type": "display_data"
    }
   ],
   "source": [
    "anova_mdl %>% filter(`Pr(>Chisq)` > 0.05)"
   ]
  },
  {
   "cell_type": "markdown",
   "metadata": {},
   "source": [
    "Variables `age`, `default`, `pdays` and `previous` can be removed."
   ]
  },
  {
   "cell_type": "code",
   "execution_count": 360,
   "metadata": {
    "vscode": {
     "languageId": "r"
    }
   },
   "outputs": [
    {
     "data": {
      "text/html": [
       "0.902241226776762"
      ],
      "text/latex": [
       "0.902241226776762"
      ],
      "text/markdown": [
       "0.902241226776762"
      ],
      "text/plain": [
       "[1] 0.9022412"
      ]
     },
     "metadata": {},
     "output_type": "display_data"
    }
   ],
   "source": [
    "bank_pred <- predict(mdl, newdata = bank_test, type = \"response\")\n",
    "bank_pred <- as.logical(round(bank_pred))\n",
    "accuracy <- mean(bank_pred == bank_test$y)\n",
    "accuracy"
   ]
  },
  {
   "cell_type": "code",
   "execution_count": 361,
   "metadata": {
    "vscode": {
     "languageId": "r"
    }
   },
   "outputs": [
    {
     "data": {
      "text/plain": [
       "Confusion Matrix and Statistics\n",
       "\n",
       "          Reference\n",
       "Prediction FALSE  TRUE\n",
       "     FALSE 11694  1043\n",
       "     TRUE    283   544\n",
       "                                          \n",
       "               Accuracy : 0.9022          \n",
       "                 95% CI : (0.8971, 0.9072)\n",
       "    No Information Rate : 0.883           \n",
       "    P-Value [Acc > NIR] : 4.89e-13        \n",
       "                                          \n",
       "                  Kappa : 0.4028          \n",
       "                                          \n",
       " Mcnemar's Test P-Value : < 2.2e-16       \n",
       "                                          \n",
       "            Sensitivity : 0.9764          \n",
       "            Specificity : 0.3428          \n",
       "         Pos Pred Value : 0.9181          \n",
       "         Neg Pred Value : 0.6578          \n",
       "             Prevalence : 0.8830          \n",
       "         Detection Rate : 0.8621          \n",
       "   Detection Prevalence : 0.9390          \n",
       "      Balanced Accuracy : 0.6596          \n",
       "                                          \n",
       "       'Positive' Class : FALSE           \n",
       "                                          "
      ]
     },
     "metadata": {},
     "output_type": "display_data"
    }
   ],
   "source": [
    "confusion <- confusionMatrix(data = as.factor(bank_pred), reference = as.factor(bank_test$y))\n",
    "confusion"
   ]
  },
  {
   "cell_type": "code",
   "execution_count": 362,
   "metadata": {
    "vscode": {
     "languageId": "r"
    }
   },
   "outputs": [
    {
     "data": {
      "image/png": "[encoded data removed]",
      "text/plain": [
       "plot without title"
      ]
     },
     "metadata": {
      "image/png": {
       "height": 750,
       "width": 1500
      }
     },
     "output_type": "display_data"
    }
   ],
   "source": [
    "plotConfusionMatrix <- function(conf) {\n",
    "    return(\n",
    "        as.data.frame(confusion$table) %>%\n",
    "        ggplot(aes(x = Reference, y = Prediction, fill = Freq)) +\n",
    "        geom_tile() +\n",
    "        geom_text(aes(label = Freq), vjust = 1) +\n",
    "        scale_fill_gradient(low = \"white\", high = \"blue\") +  # Color gradient for cells\n",
    "        labs(title = \"Confusion Matrix\",\n",
    "            x = \"Reference\",\n",
    "            y = \"Prediction\") +\n",
    "        theme_minimal()\n",
    "    )\n",
    "}\n",
    "\n",
    "conf_matrix_df %>% plotConfusionMatrix()"
   ]
  },
  {
   "cell_type": "markdown",
   "metadata": {},
   "source": [
    "Parameters : `age`, `job`, `marital`, `education`, `default`, `balance`, `housing`, `loan`, `contact`, `day`, `month`, `duration`, `campaign`, `pdays`, `previous`, `poutcome`\n",
    "\n",
    "Predicted: `y`\n",
    "\n",
    "Accuracy: 0.9022\n",
    "\n",
    "McFadden R2: 0.3369"
   ]
  },
  {
   "cell_type": "markdown",
   "metadata": {},
   "source": [
    "## Model without variables `age`, `default`, `pdays` and `previous`."
   ]
  },
  {
   "cell_type": "code",
   "execution_count": 363,
   "metadata": {
    "vscode": {
     "languageId": "r"
    }
   },
   "outputs": [
    {
     "data": {
      "text/plain": [
       "\n",
       "Call:\n",
       "glm(formula = y ~ job + marital + education + balance + housing + \n",
       "    loan + contact + day + month + duration + campaign + poutcome, \n",
       "    family = binomial(logit), data = bank_train)\n",
       "\n",
       "Coefficients:\n",
       "                     Estimate Std. Error z value Pr(>|z|)    \n",
       "(Intercept)        -5.331e+00  1.189e-01 -44.853  < 2e-16 ***\n",
       "jobtechnician      -6.420e-02  7.661e-02  -0.838 0.401969    \n",
       "jobentrepreneur    -1.203e-01  1.388e-01  -0.867 0.386041    \n",
       "jobblue-collar     -1.683e-01  8.868e-02  -1.898 0.057715 .  \n",
       "jobunknown         -2.582e-01  2.735e-01  -0.944 0.345261    \n",
       "jobretired          4.497e-01  9.954e-02   4.517 6.26e-06 ***\n",
       "jobadmin.           1.315e-01  8.819e-02   1.491 0.136064    \n",
       "jobservices        -8.380e-02  1.024e-01  -0.819 0.413004    \n",
       "jobself-employed   -2.087e-01  1.266e-01  -1.649 0.099249 .  \n",
       "jobunemployed      -1.105e-01  1.296e-01  -0.853 0.393849    \n",
       "jobhousemaid       -3.537e-01  1.650e-01  -2.144 0.032015 *  \n",
       "jobstudent          5.066e-01  1.276e-01   3.971 7.16e-05 ***\n",
       "maritalsingle       2.446e-01  5.065e-02   4.828 1.38e-06 ***\n",
       "maritaldivorced     2.111e-01  6.894e-02   3.062 0.002197 ** \n",
       "educationsecondary -1.486e-01  6.182e-02  -2.404 0.016211 *  \n",
       "educationunknown   -3.867e-03  1.120e-01  -0.035 0.972446    \n",
       "educationprimary   -3.912e-01  8.977e-02  -4.358 1.31e-05 ***\n",
       "balance             1.495e-05  6.099e-06   2.452 0.014209 *  \n",
       "housingno           6.820e-01  5.189e-02  13.143  < 2e-16 ***\n",
       "loanyes            -4.302e-01  7.135e-02  -6.030 1.64e-09 ***\n",
       "contactcellular     1.684e+00  8.865e-02  18.995  < 2e-16 ***\n",
       "contacttelephone    1.511e+00  1.207e-01  12.512  < 2e-16 ***\n",
       "day                 9.443e-03  2.999e-03   3.149 0.001640 ** \n",
       "monthjun            8.755e-01  9.356e-02   9.358  < 2e-16 ***\n",
       "monthjul           -3.986e-01  8.609e-02  -4.630 3.66e-06 ***\n",
       "monthaug           -3.013e-01  8.776e-02  -3.433 0.000597 ***\n",
       "monthoct            1.205e+00  1.254e-01   9.613  < 2e-16 ***\n",
       "monthnov           -3.852e-01  9.295e-02  -4.145 3.40e-05 ***\n",
       "monthdec            1.008e+00  2.093e-01   4.818 1.45e-06 ***\n",
       "monthjan           -9.493e-01  1.460e-01  -6.502 7.92e-11 ***\n",
       "monthfeb            2.888e-01  9.672e-02   2.986 0.002827 ** \n",
       "monthmar            2.125e+00  1.407e-01  15.104  < 2e-16 ***\n",
       "monthapr            3.831e-01  8.629e-02   4.440 9.01e-06 ***\n",
       "monthsep            1.257e+00  1.371e-01   9.167  < 2e-16 ***\n",
       "duration            4.171e-03  7.668e-05  54.400  < 2e-16 ***\n",
       "campaign           -9.201e-02  1.217e-02  -7.559 4.06e-14 ***\n",
       "poutcomefailure     1.524e-01  6.783e-02   2.247 0.024649 *  \n",
       "poutcomeother       2.861e-01  9.702e-02   2.948 0.003195 ** \n",
       "poutcomesuccess     2.299e+00  7.892e-02  29.130  < 2e-16 ***\n",
       "---\n",
       "Signif. codes:  0 '***' 0.001 '**' 0.01 '*' 0.05 '.' 0.1 ' ' 1\n",
       "\n",
       "(Dispersion parameter for binomial family taken to be 1)\n",
       "\n",
       "    Null deviance: 22840  on 31646  degrees of freedom\n",
       "Residual deviance: 15147  on 31608  degrees of freedom\n",
       "AIC: 15225\n",
       "\n",
       "Number of Fisher Scoring iterations: 6\n"
      ]
     },
     "metadata": {},
     "output_type": "display_data"
    }
   ],
   "source": [
    "mdl <- glm(y ~ job + marital + education + balance + housing + loan + contact + day + month + duration + campaign + poutcome, \n",
    "    family = binomial(logit), data = bank_train)\n",
    "    \n",
    "summary_mdl <- summary(mdl)\n",
    "summary_mdl"
   ]
  },
  {
   "cell_type": "code",
   "execution_count": 364,
   "metadata": {
    "vscode": {
     "languageId": "r"
    }
   },
   "outputs": [
    {
     "data": {
      "text/html": [
       "0.336828493692732"
      ],
      "text/latex": [
       "0.336828493692732"
      ],
      "text/markdown": [
       "0.336828493692732"
      ],
      "text/plain": [
       "[1] 0.3368285"
      ]
     },
     "metadata": {},
     "output_type": "display_data"
    }
   ],
   "source": [
    "mdl %>% ComputeMcFadden()"
   ]
  },
  {
   "cell_type": "code",
   "execution_count": 365,
   "metadata": {
    "vscode": {
     "languageId": "r"
    }
   },
   "outputs": [
    {
     "data": {
      "text/html": [
       "<table class=\"dataframe\">\n",
       "<caption>A data.frame: 12 × 3</caption>\n",
       "<thead>\n",
       "\t<tr><th></th><th scope=col>LR Chisq</th><th scope=col>Df</th><th scope=col>Pr(&gt;Chisq)</th></tr>\n",
       "\t<tr><th></th><th scope=col>&lt;dbl&gt;</th><th scope=col>&lt;dbl&gt;</th><th scope=col>&lt;dbl&gt;</th></tr>\n",
       "</thead>\n",
       "<tbody>\n",
       "\t<tr><th scope=row>balance</th><td>   5.803106</td><td> 1</td><td> 1.599789e-02</td></tr>\n",
       "\t<tr><th scope=row>day</th><td>   9.913406</td><td> 1</td><td> 1.640792e-03</td></tr>\n",
       "\t<tr><th scope=row>education</th><td>  21.012607</td><td> 3</td><td> 1.046434e-04</td></tr>\n",
       "\t<tr><th scope=row>marital</th><td>  26.852191</td><td> 2</td><td> 1.476117e-06</td></tr>\n",
       "\t<tr><th scope=row>loan</th><td>  38.688905</td><td> 1</td><td> 4.970263e-10</td></tr>\n",
       "\t<tr><th scope=row>job</th><td>  77.838285</td><td>11</td><td> 3.857658e-12</td></tr>\n",
       "\t<tr><th scope=row>campaign</th><td>  67.200019</td><td> 1</td><td> 2.453118e-16</td></tr>\n",
       "\t<tr><th scope=row>housing</th><td> 176.137224</td><td> 1</td><td> 3.379642e-40</td></tr>\n",
       "\t<tr><th scope=row>contact</th><td> 399.846946</td><td> 2</td><td> 1.493960e-87</td></tr>\n",
       "\t<tr><th scope=row>month</th><td> 728.789159</td><td>11</td><td>3.622792e-149</td></tr>\n",
       "\t<tr><th scope=row>poutcome</th><td> 871.162275</td><td> 3</td><td>1.592219e-188</td></tr>\n",
       "\t<tr><th scope=row>duration</th><td>3901.006868</td><td> 1</td><td> 0.000000e+00</td></tr>\n",
       "</tbody>\n",
       "</table>\n"
      ],
      "text/latex": [
       "A data.frame: 12 × 3\n",
       "\\begin{tabular}{r|lll}\n",
       "  & LR Chisq & Df & Pr(>Chisq)\\\\\n",
       "  & <dbl> & <dbl> & <dbl>\\\\\n",
       "\\hline\n",
       "\tbalance &    5.803106 &  1 &  1.599789e-02\\\\\n",
       "\tday &    9.913406 &  1 &  1.640792e-03\\\\\n",
       "\teducation &   21.012607 &  3 &  1.046434e-04\\\\\n",
       "\tmarital &   26.852191 &  2 &  1.476117e-06\\\\\n",
       "\tloan &   38.688905 &  1 &  4.970263e-10\\\\\n",
       "\tjob &   77.838285 & 11 &  3.857658e-12\\\\\n",
       "\tcampaign &   67.200019 &  1 &  2.453118e-16\\\\\n",
       "\thousing &  176.137224 &  1 &  3.379642e-40\\\\\n",
       "\tcontact &  399.846946 &  2 &  1.493960e-87\\\\\n",
       "\tmonth &  728.789159 & 11 & 3.622792e-149\\\\\n",
       "\tpoutcome &  871.162275 &  3 & 1.592219e-188\\\\\n",
       "\tduration & 3901.006868 &  1 &  0.000000e+00\\\\\n",
       "\\end{tabular}\n"
      ],
      "text/markdown": [
       "\n",
       "A data.frame: 12 × 3\n",
       "\n",
       "| <!--/--> | LR Chisq &lt;dbl&gt; | Df &lt;dbl&gt; | Pr(&gt;Chisq) &lt;dbl&gt; |\n",
       "|---|---|---|---|\n",
       "| balance |    5.803106 |  1 |  1.599789e-02 |\n",
       "| day |    9.913406 |  1 |  1.640792e-03 |\n",
       "| education |   21.012607 |  3 |  1.046434e-04 |\n",
       "| marital |   26.852191 |  2 |  1.476117e-06 |\n",
       "| loan |   38.688905 |  1 |  4.970263e-10 |\n",
       "| job |   77.838285 | 11 |  3.857658e-12 |\n",
       "| campaign |   67.200019 |  1 |  2.453118e-16 |\n",
       "| housing |  176.137224 |  1 |  3.379642e-40 |\n",
       "| contact |  399.846946 |  2 |  1.493960e-87 |\n",
       "| month |  728.789159 | 11 | 3.622792e-149 |\n",
       "| poutcome |  871.162275 |  3 | 1.592219e-188 |\n",
       "| duration | 3901.006868 |  1 |  0.000000e+00 |\n",
       "\n"
      ],
      "text/plain": [
       "          LR Chisq    Df Pr(>Chisq)   \n",
       "balance      5.803106  1  1.599789e-02\n",
       "day          9.913406  1  1.640792e-03\n",
       "education   21.012607  3  1.046434e-04\n",
       "marital     26.852191  2  1.476117e-06\n",
       "loan        38.688905  1  4.970263e-10\n",
       "job         77.838285 11  3.857658e-12\n",
       "campaign    67.200019  1  2.453118e-16\n",
       "housing    176.137224  1  3.379642e-40\n",
       "contact    399.846946  2  1.493960e-87\n",
       "month      728.789159 11 3.622792e-149\n",
       "poutcome   871.162275  3 1.592219e-188\n",
       "duration  3901.006868  1  0.000000e+00"
      ]
     },
     "metadata": {},
     "output_type": "display_data"
    }
   ],
   "source": [
    "anova_mdl <- as.data.frame(Anova(mdl)) %>% arrange(desc(`Pr(>Chisq)`))\n",
    "anova_mdl"
   ]
  },
  {
   "cell_type": "code",
   "execution_count": 366,
   "metadata": {
    "vscode": {
     "languageId": "r"
    }
   },
   "outputs": [
    {
     "data": {
      "text/html": [
       "0.902314951341787"
      ],
      "text/latex": [
       "0.902314951341787"
      ],
      "text/markdown": [
       "0.902314951341787"
      ],
      "text/plain": [
       "[1] 0.902315"
      ]
     },
     "metadata": {},
     "output_type": "display_data"
    }
   ],
   "source": [
    "bank_pred <- predict(mdl, newdata = bank_test, type = \"response\")\n",
    "bank_pred <- as.logical(round(bank_pred))\n",
    "accuracy <- mean(bank_pred == bank_test$y)\n",
    "accuracy"
   ]
  },
  {
   "cell_type": "code",
   "execution_count": 367,
   "metadata": {
    "vscode": {
     "languageId": "r"
    }
   },
   "outputs": [
    {
     "data": {
      "text/plain": [
       "Confusion Matrix and Statistics\n",
       "\n",
       "          Reference\n",
       "Prediction FALSE  TRUE\n",
       "     FALSE 11695  1043\n",
       "     TRUE    282   544\n",
       "                                          \n",
       "               Accuracy : 0.9023          \n",
       "                 95% CI : (0.8972, 0.9073)\n",
       "    No Information Rate : 0.883           \n",
       "    P-Value [Acc > NIR] : 3.984e-13       \n",
       "                                          \n",
       "                  Kappa : 0.4031          \n",
       "                                          \n",
       " Mcnemar's Test P-Value : < 2.2e-16       \n",
       "                                          \n",
       "            Sensitivity : 0.9765          \n",
       "            Specificity : 0.3428          \n",
       "         Pos Pred Value : 0.9181          \n",
       "         Neg Pred Value : 0.6586          \n",
       "             Prevalence : 0.8830          \n",
       "         Detection Rate : 0.8622          \n",
       "   Detection Prevalence : 0.9391          \n",
       "      Balanced Accuracy : 0.6596          \n",
       "                                          \n",
       "       'Positive' Class : FALSE           \n",
       "                                          "
      ]
     },
     "metadata": {},
     "output_type": "display_data"
    }
   ],
   "source": [
    "confusion <- confusionMatrix(data = as.factor(bank_pred), reference = as.factor(bank_test$y))\n",
    "confusion"
   ]
  },
  {
   "cell_type": "code",
   "execution_count": 368,
   "metadata": {
    "vscode": {
     "languageId": "r"
    }
   },
   "outputs": [
    {
     "data": {
      "image/png": "[encoded data removed]",
      "text/plain": [
       "plot without title"
      ]
     },
     "metadata": {
      "image/png": {
       "height": 750,
       "width": 1500
      }
     },
     "output_type": "display_data"
    }
   ],
   "source": [
    "conf_matrix_df %>% plotConfusionMatrix()"
   ]
  },
  {
   "cell_type": "markdown",
   "metadata": {},
   "source": [
    "Parameters : `job`, `marital`, `education`, `balance`, `housing`, `loan`, `contact`, `day`, `month`, `duration`, `campaign`, `poutcome`\n",
    "\n",
    "Predicted: `y`\n",
    "\n",
    "Accuracy: 0.9023\n",
    "\n",
    "McFadden R2: 0.3368\n",
    "\n",
    "The removal of variables `age`, `default`, `pdays` and `previous` didn't impact the performance of the model."
   ]
  },
  {
   "cell_type": "markdown",
   "metadata": {},
   "source": [
    "## Model with logarithmized numerical variables\n",
    "This model uses variables that have been logarithmized."
   ]
  },
  {
   "cell_type": "code",
   "execution_count": 369,
   "metadata": {
    "vscode": {
     "languageId": "r"
    }
   },
   "outputs": [
    {
     "data": {
      "text/plain": [
       "\n",
       "Call:\n",
       "glm(formula = y ~ job + marital + education + balance + housing + \n",
       "    loan + contact + day_log + month + duration_log + campaign_log + \n",
       "    poutcome, family = binomial(logit), data = bank_train)\n",
       "\n",
       "Coefficients:\n",
       "                     Estimate Std. Error z value Pr(>|z|)    \n",
       "(Intercept)        -1.445e+01  2.534e-01 -57.046  < 2e-16 ***\n",
       "jobtechnician      -7.234e-02  7.738e-02  -0.935 0.349858    \n",
       "jobentrepreneur    -1.727e-01  1.388e-01  -1.245 0.213286    \n",
       "jobblue-collar     -1.897e-01  8.881e-02  -2.136 0.032661 *  \n",
       "jobunknown         -3.901e-01  2.787e-01  -1.400 0.161650    \n",
       "jobretired          3.797e-01  1.022e-01   3.715 0.000203 ***\n",
       "jobadmin.           1.409e-01  8.993e-02   1.567 0.117123    \n",
       "jobservices        -9.253e-02  1.023e-01  -0.905 0.365534    \n",
       "jobself-employed   -2.099e-01  1.272e-01  -1.650 0.098856 .  \n",
       "jobunemployed      -1.724e-01  1.311e-01  -1.315 0.188518    \n",
       "jobhousemaid       -2.992e-01  1.644e-01  -1.820 0.068775 .  \n",
       "jobstudent          5.555e-01  1.325e-01   4.192 2.76e-05 ***\n",
       "maritalsingle       2.468e-01  5.103e-02   4.837 1.32e-06 ***\n",
       "maritaldivorced     2.115e-01  6.938e-02   3.049 0.002295 ** \n",
       "educationsecondary -1.855e-01  6.272e-02  -2.957 0.003102 ** \n",
       "educationunknown   -2.298e-02  1.141e-01  -0.201 0.840410    \n",
       "educationprimary   -3.984e-01  9.003e-02  -4.425 9.64e-06 ***\n",
       "balance             1.564e-05  6.347e-06   2.465 0.013715 *  \n",
       "housingno           6.555e-01  5.206e-02  12.593  < 2e-16 ***\n",
       "loanyes            -3.921e-01  7.026e-02  -5.580 2.40e-08 ***\n",
       "contactcellular     1.552e+00  8.717e-02  17.810  < 2e-16 ***\n",
       "contacttelephone    1.449e+00  1.221e-01  11.867  < 2e-16 ***\n",
       "day_log             9.514e-02  3.397e-02   2.801 0.005099 ** \n",
       "monthjun            8.970e-01  9.423e-02   9.520  < 2e-16 ***\n",
       "monthjul           -3.770e-01  8.549e-02  -4.410 1.03e-05 ***\n",
       "monthaug           -2.171e-01  8.931e-02  -2.431 0.015067 *  \n",
       "monthoct            1.325e+00  1.326e-01   9.993  < 2e-16 ***\n",
       "monthnov           -3.370e-01  9.345e-02  -3.606 0.000311 ***\n",
       "monthdec            1.074e+00  2.185e-01   4.916 8.81e-07 ***\n",
       "monthjan           -8.909e-01  1.416e-01  -6.293 3.12e-10 ***\n",
       "monthfeb            3.564e-01  1.010e-01   3.530 0.000415 ***\n",
       "monthmar            2.441e+00  1.528e-01  15.969  < 2e-16 ***\n",
       "monthapr            3.602e-01  8.681e-02   4.149 3.34e-05 ***\n",
       "monthsep            1.348e+00  1.453e-01   9.278  < 2e-16 ***\n",
       "duration_log        1.917e+00  3.419e-02  56.060  < 2e-16 ***\n",
       "campaign_log       -3.833e-01  5.434e-02  -7.054 1.74e-12 ***\n",
       "poutcomefailure     1.442e-01  6.937e-02   2.079 0.037653 *  \n",
       "poutcomeother       2.708e-01  9.959e-02   2.719 0.006547 ** \n",
       "poutcomesuccess     2.353e+00  8.428e-02  27.917  < 2e-16 ***\n",
       "---\n",
       "Signif. codes:  0 '***' 0.001 '**' 0.01 '*' 0.05 '.' 0.1 ' ' 1\n",
       "\n",
       "(Dispersion parameter for binomial family taken to be 1)\n",
       "\n",
       "    Null deviance: 22840  on 31646  degrees of freedom\n",
       "Residual deviance: 14392  on 31608  degrees of freedom\n",
       "AIC: 14470\n",
       "\n",
       "Number of Fisher Scoring iterations: 7\n"
      ]
     },
     "metadata": {},
     "output_type": "display_data"
    }
   ],
   "source": [
    "mdl <- glm(y ~ job + marital + education + balance + housing + loan + contact + day_log + month + duration_log + campaign_log + poutcome, \n",
    "    family = binomial(logit), data = bank_train)\n",
    "summary(mdl)"
   ]
  },
  {
   "cell_type": "code",
   "execution_count": 370,
   "metadata": {
    "vscode": {
     "languageId": "r"
    }
   },
   "outputs": [
    {
     "data": {
      "text/html": [
       "0.369887997204842"
      ],
      "text/latex": [
       "0.369887997204842"
      ],
      "text/markdown": [
       "0.369887997204842"
      ],
      "text/plain": [
       "[1] 0.369888"
      ]
     },
     "metadata": {},
     "output_type": "display_data"
    }
   ],
   "source": [
    "mdl %>% ComputeMcFadden()"
   ]
  },
  {
   "cell_type": "code",
   "execution_count": 371,
   "metadata": {
    "vscode": {
     "languageId": "r"
    }
   },
   "outputs": [
    {
     "data": {
      "text/html": [
       "<table class=\"dataframe\">\n",
       "<caption>A data.frame: 12 × 3</caption>\n",
       "<thead>\n",
       "\t<tr><th></th><th scope=col>LR Chisq</th><th scope=col>Df</th><th scope=col>Pr(&gt;Chisq)</th></tr>\n",
       "\t<tr><th></th><th scope=col>&lt;dbl&gt;</th><th scope=col>&lt;dbl&gt;</th><th scope=col>&lt;dbl&gt;</th></tr>\n",
       "</thead>\n",
       "<tbody>\n",
       "\t<tr><th scope=row>balance</th><td>   5.838031</td><td> 1</td><td> 1.568337e-02</td></tr>\n",
       "\t<tr><th scope=row>day_log</th><td>   7.901530</td><td> 1</td><td> 4.939299e-03</td></tr>\n",
       "\t<tr><th scope=row>education</th><td>  21.937609</td><td> 3</td><td> 6.721030e-05</td></tr>\n",
       "\t<tr><th scope=row>marital</th><td>  26.907357</td><td> 2</td><td> 1.435958e-06</td></tr>\n",
       "\t<tr><th scope=row>loan</th><td>  32.750841</td><td> 1</td><td> 1.047610e-08</td></tr>\n",
       "\t<tr><th scope=row>job</th><td>  74.955222</td><td>11</td><td> 1.382509e-11</td></tr>\n",
       "\t<tr><th scope=row>campaign_log</th><td>  51.474247</td><td> 1</td><td> 7.254248e-13</td></tr>\n",
       "\t<tr><th scope=row>housing</th><td> 160.972201</td><td> 1</td><td> 6.938058e-37</td></tr>\n",
       "\t<tr><th scope=row>contact</th><td> 343.063932</td><td> 2</td><td> 3.196050e-75</td></tr>\n",
       "\t<tr><th scope=row>month</th><td> 727.506056</td><td>11</td><td>6.827020e-149</td></tr>\n",
       "\t<tr><th scope=row>poutcome</th><td> 827.709457</td><td> 3</td><td>4.232315e-179</td></tr>\n",
       "\t<tr><th scope=row>duration_log</th><td>4653.148788</td><td> 1</td><td> 0.000000e+00</td></tr>\n",
       "</tbody>\n",
       "</table>\n"
      ],
      "text/latex": [
       "A data.frame: 12 × 3\n",
       "\\begin{tabular}{r|lll}\n",
       "  & LR Chisq & Df & Pr(>Chisq)\\\\\n",
       "  & <dbl> & <dbl> & <dbl>\\\\\n",
       "\\hline\n",
       "\tbalance &    5.838031 &  1 &  1.568337e-02\\\\\n",
       "\tday\\_log &    7.901530 &  1 &  4.939299e-03\\\\\n",
       "\teducation &   21.937609 &  3 &  6.721030e-05\\\\\n",
       "\tmarital &   26.907357 &  2 &  1.435958e-06\\\\\n",
       "\tloan &   32.750841 &  1 &  1.047610e-08\\\\\n",
       "\tjob &   74.955222 & 11 &  1.382509e-11\\\\\n",
       "\tcampaign\\_log &   51.474247 &  1 &  7.254248e-13\\\\\n",
       "\thousing &  160.972201 &  1 &  6.938058e-37\\\\\n",
       "\tcontact &  343.063932 &  2 &  3.196050e-75\\\\\n",
       "\tmonth &  727.506056 & 11 & 6.827020e-149\\\\\n",
       "\tpoutcome &  827.709457 &  3 & 4.232315e-179\\\\\n",
       "\tduration\\_log & 4653.148788 &  1 &  0.000000e+00\\\\\n",
       "\\end{tabular}\n"
      ],
      "text/markdown": [
       "\n",
       "A data.frame: 12 × 3\n",
       "\n",
       "| <!--/--> | LR Chisq &lt;dbl&gt; | Df &lt;dbl&gt; | Pr(&gt;Chisq) &lt;dbl&gt; |\n",
       "|---|---|---|---|\n",
       "| balance |    5.838031 |  1 |  1.568337e-02 |\n",
       "| day_log |    7.901530 |  1 |  4.939299e-03 |\n",
       "| education |   21.937609 |  3 |  6.721030e-05 |\n",
       "| marital |   26.907357 |  2 |  1.435958e-06 |\n",
       "| loan |   32.750841 |  1 |  1.047610e-08 |\n",
       "| job |   74.955222 | 11 |  1.382509e-11 |\n",
       "| campaign_log |   51.474247 |  1 |  7.254248e-13 |\n",
       "| housing |  160.972201 |  1 |  6.938058e-37 |\n",
       "| contact |  343.063932 |  2 |  3.196050e-75 |\n",
       "| month |  727.506056 | 11 | 6.827020e-149 |\n",
       "| poutcome |  827.709457 |  3 | 4.232315e-179 |\n",
       "| duration_log | 4653.148788 |  1 |  0.000000e+00 |\n",
       "\n"
      ],
      "text/plain": [
       "             LR Chisq    Df Pr(>Chisq)   \n",
       "balance         5.838031  1  1.568337e-02\n",
       "day_log         7.901530  1  4.939299e-03\n",
       "education      21.937609  3  6.721030e-05\n",
       "marital        26.907357  2  1.435958e-06\n",
       "loan           32.750841  1  1.047610e-08\n",
       "job            74.955222 11  1.382509e-11\n",
       "campaign_log   51.474247  1  7.254248e-13\n",
       "housing       160.972201  1  6.938058e-37\n",
       "contact       343.063932  2  3.196050e-75\n",
       "month         727.506056 11 6.827020e-149\n",
       "poutcome      827.709457  3 4.232315e-179\n",
       "duration_log 4653.148788  1  0.000000e+00"
      ]
     },
     "metadata": {},
     "output_type": "display_data"
    }
   ],
   "source": [
    "anova_mdl <- as.data.frame(Anova(mdl)) %>% arrange(desc(`Pr(>Chisq)`))\n",
    "anova_mdl"
   ]
  },
  {
   "cell_type": "code",
   "execution_count": 372,
   "metadata": {
    "vscode": {
     "languageId": "r"
    }
   },
   "outputs": [
    {
     "data": {
      "text/plain": [
       "Confusion Matrix and Statistics\n",
       "\n",
       "          Reference\n",
       "Prediction FALSE  TRUE\n",
       "     FALSE 11695  1043\n",
       "     TRUE    282   544\n",
       "                                          \n",
       "               Accuracy : 0.9023          \n",
       "                 95% CI : (0.8972, 0.9073)\n",
       "    No Information Rate : 0.883           \n",
       "    P-Value [Acc > NIR] : 3.984e-13       \n",
       "                                          \n",
       "                  Kappa : 0.4031          \n",
       "                                          \n",
       " Mcnemar's Test P-Value : < 2.2e-16       \n",
       "                                          \n",
       "            Sensitivity : 0.9765          \n",
       "            Specificity : 0.3428          \n",
       "         Pos Pred Value : 0.9181          \n",
       "         Neg Pred Value : 0.6586          \n",
       "             Prevalence : 0.8830          \n",
       "         Detection Rate : 0.8622          \n",
       "   Detection Prevalence : 0.9391          \n",
       "      Balanced Accuracy : 0.6596          \n",
       "                                          \n",
       "       'Positive' Class : FALSE           \n",
       "                                          "
      ]
     },
     "metadata": {},
     "output_type": "display_data"
    }
   ],
   "source": [
    "confusion <- confusionMatrix(data = as.factor(bank_pred), reference = as.factor(bank_test$y))\n",
    "confusion"
   ]
  },
  {
   "cell_type": "code",
   "execution_count": 373,
   "metadata": {
    "vscode": {
     "languageId": "r"
    }
   },
   "outputs": [
    {
     "data": {
      "image/png": "[encoded data removed]",
      "text/plain": [
       "plot without title"
      ]
     },
     "metadata": {
      "image/png": {
       "height": 750,
       "width": 1500
      }
     },
     "output_type": "display_data"
    }
   ],
   "source": [
    "conf_matrix_df %>% plotConfusionMatrix()"
   ]
  },
  {
   "cell_type": "markdown",
   "metadata": {},
   "source": [
    "Parameters : `job`, `marital`, `education`, `balance`, `housing`, `loan`, `contact`, `day_log`, `month`, `duration_log`, `campaign_log`, `poutcome`\n",
    "\n",
    "Predicted: `y`\n",
    "\n",
    "Accuracy: 0.9023\n",
    "\n",
    "McFadden R2: 0.3699\n",
    "\n",
    "Applying the `log` function to the numeric variables didn't affect the predictions."
   ]
  }
 ],
 "metadata": {
  "kernelspec": {
   "display_name": "R",
   "language": "R",
   "name": "ir"
  },
  "language_info": {
   "codemirror_mode": "r",
   "file_extension": ".r",
   "mimetype": "text/x-r-source",
   "name": "R",
   "pygments_lexer": "r",
   "version": "4.3.3"
  }
 },
 "nbformat": 4,
 "nbformat_minor": 2
}
